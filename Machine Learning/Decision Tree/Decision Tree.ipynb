{
 "cells": [
  {
   "cell_type": "code",
   "execution_count": 3,
   "id": "15f3c91b-792a-4e23-89c5-3ddb25358d17",
   "metadata": {},
   "outputs": [],
   "source": [
    "import pandas as pd # import pandas module and all functions\n",
    "dataset = pd.read_csv(\"50_Startups.csv\") #read csv file\n",
    "dataset = pd.get_dummies(dataset,drop_first=True) # get dummy values and drop the first column\n",
    "independent_value = dataset[['R&D Spend', 'Administration', 'Marketing Spend', 'State_Florida', 'State_New York']] # split input value\n",
    "dependent_value = dataset[['Profit']]  # split output value\n",
    "from sklearn.model_selection import train_test_split # import train_test_split function from sklearn.model_selection module folders\n",
    "x_train,x_test,y_train,y_test = train_test_split(independent_value,dependent_value,test_size=0.30,random_state=0) # split the train data and test data frrm the function\n",
    "from sklearn.tree import DecisionTreeRegressor\n",
    "regressor = DecisionTreeRegressor(criterion='squared_error',splitter='random')\n",
    "regressor = regressor.fit(x_train,y_train)\n",
    "y_pred = regressor.predict(x_test) # Doing evalution matrix for input test data(x_test) through \"predict\" function, so based on prediction function check model\n",
    "\n",
    "from sklearn.metrics import r2_score # import r2_score form sklearn.metrics module folder\n",
    "r_score = r2_score(y_test,y_pred) # based on r2_score validate the model if it is returen near to \"1\" it is good model\n",
    "r_score"
   ]
  },
  {
   "cell_type": "code",
   "execution_count": 27,
   "id": "7228b990-830c-46f9-b7e0-ebd7495d6899",
   "metadata": {},
   "outputs": [
    {
     "data": {
      "text/plain": [
       "0.8964341345592"
      ]
     },
     "execution_count": 27,
     "metadata": {},
     "output_type": "execute_result"
    }
   ],
   "source": []
  },
  {
   "cell_type": "code",
   "execution_count": null,
   "id": "57cf40b0-e874-4d7f-b3d5-6cbd22385270",
   "metadata": {},
   "outputs": [],
   "source": []
  }
 ],
 "metadata": {
  "kernelspec": {
   "display_name": "Python 3 (ipykernel)",
   "language": "python",
   "name": "python3"
  },
  "language_info": {
   "codemirror_mode": {
    "name": "ipython",
    "version": 3
   },
   "file_extension": ".py",
   "mimetype": "text/x-python",
   "name": "python",
   "nbconvert_exporter": "python",
   "pygments_lexer": "ipython3",
   "version": "3.12.7"
  }
 },
 "nbformat": 4,
 "nbformat_minor": 5
}
