{
 "cells": [
  {
   "cell_type": "code",
   "execution_count": 7,
   "id": "586eb15c-62c3-4b33-9da2-02e0f6c6ab7b",
   "metadata": {},
   "outputs": [
    {
     "name": "stderr",
     "output_type": "stream",
     "text": [
      "<>:56: SyntaxWarning: invalid escape sequence '\\K'\n",
      "<>:56: SyntaxWarning: invalid escape sequence '\\K'\n",
      "C:\\Users\\ranja\\AppData\\Local\\Temp\\ipykernel_28512\\541521919.py:56: SyntaxWarning: invalid escape sequence '\\K'\n",
      "  print(\"\\KNeighbors Grid Classifiction Report:\\n\")\n"
     ]
    },
    {
     "name": "stdout",
     "output_type": "stream",
     "text": [
      "Fitting 5 folds for each of 20 candidates, totalling 100 fits\n",
      "\\KNeighbors Grid Classifiction Report:\n",
      "\n",
      "The confusion_matrix value:\n",
      "\n",
      " [[51  0]\n",
      " [ 2 80]]\n",
      "The classification_report value:\n",
      "\n",
      "               precision    recall  f1-score   support\n",
      "\n",
      "       False       0.96      1.00      0.98        51\n",
      "        True       1.00      0.98      0.99        82\n",
      "\n",
      "    accuracy                           0.98       133\n",
      "   macro avg       0.98      0.99      0.98       133\n",
      "weighted avg       0.99      0.98      0.99       133\n",
      "\n",
      "The f1_micro value : 0.9850141736106648\n",
      "\n",
      "The roc_auc_score value for best parameter {'algorithm': 'auto', 'metric': 'minkowski', 'n_neighbors': 1, 'p': 2}: 0.9878048780487805\n",
      "\n"
     ]
    },
    {
     "name": "stderr",
     "output_type": "stream",
     "text": [
      "C:\\Users\\ranja\\anaconda3\\Lib\\site-packages\\sklearn\\neighbors\\_classification.py:238: DataConversionWarning: A column-vector y was passed when a 1d array was expected. Please change the shape of y to (n_samples,), for example using ravel().\n",
      "  return self._fit(X, y)\n"
     ]
    }
   ],
   "source": [
    "#importing the Libraies\n",
    "import numpy as np\n",
    "import matplotlib.pyplot as plt\n",
    "import pandas as pd\n",
    "# Reading the Dataset\n",
    "dataset = pd.read_csv('CKD.csv')\n",
    "dataset = pd.get_dummies(dataset,drop_first=True)\n",
    "# dataset.columns\n",
    "independ= dataset[['age', 'bp', 'al', 'su', 'bgr', 'bu', 'sc', 'sod', 'pot', 'hrmo', 'pcv',\n",
    "                   'wc', 'rc', 'sg_b', 'sg_c', 'sg_d', 'sg_e', 'rbc_normal', 'pc_normal',\n",
    "                   'pcc_present', 'ba_present', 'htn_yes', 'dm_yes', 'cad_yes', 'appet_yes', 'pe_yes', 'ane_yes']]\n",
    "depend = dataset[['classification_yes']]\n",
    "\n",
    "#split into training set and test\n",
    "from sklearn.model_selection import train_test_split\n",
    "X_train, X_test, y_train, y_test = train_test_split(independ, depend, test_size = 1/3, random_state = 0)\n",
    "\n",
    "from sklearn.preprocessing import StandardScaler\n",
    "sc = StandardScaler()\n",
    "X_train = sc.fit_transform(X_train)\n",
    "X_test = sc.transform(X_test)\n",
    "\n",
    "from sklearn.neighbors import KNeighborsClassifier\n",
    "from sklearn.model_selection import GridSearchCV\n",
    "\n",
    "# class sklearn.neighbors.KNeighborsClassifier(n_neighbors=5, *, weights='uniform', algorithm='auto', leaf_size=30, p=2, metric='minkowski', metric_params=None, n_jobs=None)\n",
    "param_grid = {'n_neighbors':[1,2,4,6,7],\n",
    "             'metric':['minkowski'],\n",
    "             'algorithm':['auto', 'ball_tree', 'kd_tree', 'brute'],\n",
    "             'p':[2]}\n",
    "\n",
    "grid = GridSearchCV(KNeighborsClassifier(), param_grid, refit = True, verbose = 3,n_jobs=-1,scoring='f1_weighted') \n",
    "\n",
    "# fitting the model for grid search \n",
    "grid.fit(X_train, y_train) \n",
    "\n",
    "grid_predictions = grid.predict(X_test) # Pass test set for prediction\n",
    "\n",
    "from sklearn.metrics import confusion_matrix\n",
    "cm = confusion_matrix(y_test, grid_predictions)\n",
    "\n",
    "\n",
    "# classification report \n",
    "from sklearn.metrics import classification_report\n",
    "clf_report = classification_report(y_test, grid_predictions)\n",
    "\n",
    "from sklearn.metrics import f1_score\n",
    "# {'weighted', 'samples', 'binary', 'micro', 'macro'} \n",
    "f1_micro=f1_score(y_test,grid_predictions,average='weighted')\n",
    "\n",
    "from sklearn.metrics import roc_auc_score\n",
    "roc = roc_auc_score(y_test,grid.predict_proba(X_test)[:,1])\n",
    "\n",
    "cv_result=grid.cv_results_\n",
    "\n",
    "print(\"\\nKNeighbors Grid Classifiction Report:\\n\")\n",
    "print(\"The confusion_matrix value:\\n\\n {}\".format(cm))\n",
    "print(\"The classification_report value:\\n\\n {}\".format(clf_report))\n",
    "print(\"The f1_micro value : {}\\n\".format(f1_micro))\n",
    "print(\"The roc_auc_score value for best parameter {}: {}\\n\".format(grid.best_params_, roc))\n",
    "\n",
    "# df = pd.DataFrame(cv_result)\n",
    "# df\n",
    "# Convert DataFrame to markdown table\n",
    "# table = df.to_markdown(index=False)\n",
    "# print(table)"
   ]
  },
  {
   "cell_type": "code",
   "execution_count": null,
   "id": "3e4be457-a30b-4946-9709-54bd509b85c1",
   "metadata": {},
   "outputs": [],
   "source": []
  }
 ],
 "metadata": {
  "kernelspec": {
   "display_name": "Python 3 (ipykernel)",
   "language": "python",
   "name": "python3"
  },
  "language_info": {
   "codemirror_mode": {
    "name": "ipython",
    "version": 3
   },
   "file_extension": ".py",
   "mimetype": "text/x-python",
   "name": "python",
   "nbconvert_exporter": "python",
   "pygments_lexer": "ipython3",
   "version": "3.12.7"
  }
 },
 "nbformat": 4,
 "nbformat_minor": 5
}
