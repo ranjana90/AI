{
 "cells": [
  {
   "cell_type": "code",
   "execution_count": 21,
   "id": "0986f92e-b150-4e23-9753-2bcaa96d843d",
   "metadata": {},
   "outputs": [
    {
     "name": "stdout",
     "output_type": "stream",
     "text": [
      "Fitting 5 folds for each of 4 candidates, totalling 20 fits\n",
      "\n",
      "Logistic Grid Classifiction Report:\n",
      "\n",
      "The confusion_matrix value:\n",
      "\n",
      " [[51  0]\n",
      " [ 1 81]]\n",
      "The classification_report value:\n",
      "\n",
      "               precision    recall  f1-score   support\n",
      "\n",
      "       False       0.98      1.00      0.99        51\n",
      "        True       1.00      0.99      0.99        82\n",
      "\n",
      "    accuracy                           0.99       133\n",
      "   macro avg       0.99      0.99      0.99       133\n",
      "weighted avg       0.99      0.99      0.99       133\n",
      "\n",
      "The f1_micro value : 0.9924946382275899\n",
      "\n",
      "The roc_auc_score value for best parameter {'penalty': 'l2', 'solver': 'newton-cg'}: 1.0\n",
      "\n"
     ]
    },
    {
     "name": "stderr",
     "output_type": "stream",
     "text": [
      "C:\\Users\\ranja\\anaconda3\\Lib\\site-packages\\sklearn\\utils\\validation.py:1339: DataConversionWarning: A column-vector y was passed when a 1d array was expected. Please change the shape of y to (n_samples, ), for example using ravel().\n",
      "  y = column_or_1d(y, warn=True)\n"
     ]
    }
   ],
   "source": [
    "#importing the Libraies\n",
    "import numpy as np\n",
    "import matplotlib.pyplot as plt\n",
    "import pandas as pd\n",
    "# Reading the Dataset\n",
    "dataset = pd.read_csv('CKD.csv')\n",
    "dataset = pd.get_dummies(dataset,drop_first=True)\n",
    "dataset.shape\n",
    "independ= dataset[['age', 'bp', 'al', 'su', 'bgr', 'bu', 'sc', 'sod', 'pot', 'hrmo', 'pcv',\n",
    "                   'wc', 'rc', 'sg_b', 'sg_c', 'sg_d', 'sg_e', 'rbc_normal', 'pc_normal',\n",
    "                   'pcc_present', 'ba_present', 'htn_yes', 'dm_yes', 'cad_yes', 'appet_yes', 'pe_yes', 'ane_yes']]\n",
    "depend = dataset[['classification_yes']]\n",
    "\n",
    "#split into training set and test\n",
    "from sklearn.model_selection import train_test_split\n",
    "X_train, X_test, y_train, y_test = train_test_split(independ, depend, test_size = 1/3, random_state = 0)\n",
    "\n",
    "from sklearn.preprocessing import StandardScaler\n",
    "sc = StandardScaler()\n",
    "X_train = sc.fit_transform(X_train)\n",
    "X_test = sc.transform(X_test)\n",
    "\n",
    "from sklearn.linear_model import LogisticRegression\n",
    "from sklearn.model_selection import GridSearchCV\n",
    "\n",
    "param_grid = {'solver':['newton-cg', 'lbfgs', 'liblinear', 'saga'],\n",
    "             'penalty':['l2']}\n",
    "\n",
    "grid = GridSearchCV(LogisticRegression(), param_grid, refit = True, verbose = 3,n_jobs=-1,scoring='f1_weighted') \n",
    "\n",
    "# fitting the model for grid search \n",
    "grid.fit(X_train, y_train) \n",
    "\n",
    "grid_predictions = grid.predict(X_test) # Pass test set for prediction\n",
    "\n",
    "from sklearn.metrics import confusion_matrix\n",
    "cm = confusion_matrix(y_test, grid_predictions)\n",
    "\n",
    "\n",
    "# classification report \n",
    "from sklearn.metrics import classification_report\n",
    "clf_report = classification_report(y_test, grid_predictions)\n",
    "\n",
    "from sklearn.metrics import f1_score\n",
    "# {'weighted', 'samples', 'binary', 'micro', 'macro'} \n",
    "f1_micro=f1_score(y_test,grid_predictions,average='weighted')\n",
    "\n",
    "from sklearn.metrics import roc_auc_score\n",
    "roc = roc_auc_score(y_test,grid.predict_proba(X_test)[:,1])\n",
    "\n",
    "cv_result=grid.cv_results_\n",
    "\n",
    "print(\"\\nLogistic Grid Classifiction Report:\\n\")\n",
    "print(\"The confusion_matrix value:\\n\\n {}\".format(cm))\n",
    "print(\"The classification_report value:\\n\\n {}\".format(clf_report))\n",
    "print(\"The f1_micro value : {}\\n\".format(f1_micro))\n",
    "print(\"The roc_auc_score value for best parameter {}: {}\\n\".format(grid.best_params_, roc))\n",
    "\n",
    "# df = pd.DataFrame(cv_result)\n",
    "# df\n",
    "# Convert DataFrame to markdown table\n",
    "# table = df.to_markdown(index=False)\n",
    "# print(table)"
   ]
  },
  {
   "cell_type": "code",
   "execution_count": 13,
   "id": "11dba0c7-a422-4f53-84a5-8bef3e29f871",
   "metadata": {},
   "outputs": [],
   "source": [
    "import pickle # import pickle\n",
    "file_name = \"finalized_model_logistic_classification.sav\" #file name\n",
    "pickle.dump(grid,open(file_name,'wb')) # open the file and use 'wb' write/save the model\n",
    "# loaded_model = pickle.load(open(file_name,'rb')) # open the file and use 'rb' read the model then load the loaded variable\n",
    "# loaded_model.predict([[123456,246,876,0,1]]) # pass the custom input value"
   ]
  },
  {
   "cell_type": "code",
   "execution_count": null,
   "id": "8e422c1f-1411-4a8f-a1f0-a68ca6f0e170",
   "metadata": {},
   "outputs": [],
   "source": []
  }
 ],
 "metadata": {
  "kernelspec": {
   "display_name": "Python 3 (ipykernel)",
   "language": "python",
   "name": "python3"
  },
  "language_info": {
   "codemirror_mode": {
    "name": "ipython",
    "version": 3
   },
   "file_extension": ".py",
   "mimetype": "text/x-python",
   "name": "python",
   "nbconvert_exporter": "python",
   "pygments_lexer": "ipython3",
   "version": "3.12.7"
  }
 },
 "nbformat": 4,
 "nbformat_minor": 5
}
