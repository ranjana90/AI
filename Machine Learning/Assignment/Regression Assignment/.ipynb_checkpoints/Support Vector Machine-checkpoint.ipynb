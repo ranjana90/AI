{
 "cells": [
  {
   "cell_type": "code",
   "execution_count": 59,
   "id": "ec217f6d-1cc9-4234-9b45-89074be7080b",
   "metadata": {},
   "outputs": [
    {
     "name": "stderr",
     "output_type": "stream",
     "text": [
      "C:\\Users\\ranja\\anaconda3\\Lib\\site-packages\\sklearn\\utils\\validation.py:1339: DataConversionWarning: A column-vector y was passed when a 1d array was expected. Please change the shape of y to (n_samples, ), for example using ravel().\n",
      "  y = column_or_1d(y, warn=True)\n"
     ]
    },
    {
     "data": {
      "text/plain": [
       "0.8566487675946572"
      ]
     },
     "execution_count": 59,
     "metadata": {},
     "output_type": "execute_result"
    }
   ],
   "source": [
    "import pandas as pd # import pandas module and all functions\n",
    "dataset = pd.read_csv(\"insurance_pre.csv\") #read csv file\n",
    "dataset.shape\n",
    "\n",
    "# Data Preprocessing\n",
    "dataset =pd.get_dummies(dataset,drop_first=True) \n",
    "\n",
    "# Spilt Input and Output\n",
    "independent_value = dataset[['age','bmi','children','sex_male','smoker_yes']] # split input value\n",
    "dependent_value = dataset[['charges']]  # split output value\n",
    "\n",
    "# Split Train and Test dataset\n",
    "from sklearn.model_selection import train_test_split # import train_test_split function from sklearn.model_selection module folders\n",
    "x_train,x_test,y_train,y_test = train_test_split(independent_value,dependent_value,test_size=0.30,random_state=0) # split the train data and test data frrm the function\n",
    "\n",
    "\n",
    "from sklearn.preprocessing import StandardScaler\n",
    "sc= StandardScaler()\n",
    "x_train = sc.fit_transform(x_train)\n",
    "x_test = sc.transform(x_test)\n",
    "\n",
    "from sklearn.svm import SVR #import LinearnRegression class from sklearn.linearn_model module folder\n",
    "regressor = SVR(kernel=\"poly\",C=1000) # create object for LinearRegression class\n",
    "regressor.fit(x_train, y_train) #Call fit function from regressor object and pass the arrguments,so based on the LinearRegression calss created the trained model\n",
    "\n",
    "regressor.n_support_ # check support data points count\n",
    "regressor.intercept_ # check support data points count\n",
    "y_pred = regressor.predict(x_test) # Doing evalution matrix for input test data(x_test) through \"predict\" function, so based on prediction function check model\n",
    "\n",
    "from sklearn.metrics import r2_score # import r2_score form sklearn.metrics module folder\n",
    "r_score = r2_score(y_test,y_pred) # based on r2_score validate the model if it is returen near to \"1\" it is good model\n",
    "r_score\n"
   ]
  },
  {
   "cell_type": "code",
   "execution_count": 55,
   "id": "b23672eb-b783-4e31-861a-0a3fda7f24a6",
   "metadata": {},
   "outputs": [
    {
     "name": "stderr",
     "output_type": "stream",
     "text": [
      "C:\\Users\\ranja\\anaconda3\\Lib\\site-packages\\sklearn\\utils\\validation.py:1339: DataConversionWarning: A column-vector y was passed when a 1d array was expected. Please change the shape of y to (n_samples, ), for example using ravel().\n",
      "  y = column_or_1d(y, warn=True)\n"
     ]
    },
    {
     "data": {
      "text/plain": [
       "-0.07542924281107188"
      ]
     },
     "execution_count": 55,
     "metadata": {},
     "output_type": "execute_result"
    }
   ],
   "source": [
    "import pickle # import pickle\n",
    "file_name = \"finalized_model_svm.sav\" #file name\n",
    "pickle.dump(regressor,open(file_name,'wb')) # open the file and use 'wb' write/save the model\n",
    "# loaded_model = pickle.load(open(file_name,'rb')) # open the file and use 'rb' read the model then load the loaded variable\n",
    "# loaded_model.predict([[12]]) # pass the custom input value"
   ]
  },
  {
   "cell_type": "code",
   "execution_count": null,
   "id": "aa284032-6d4c-4fc2-8dda-47f0132337b1",
   "metadata": {},
   "outputs": [],
   "source": []
  }
 ],
 "metadata": {
  "kernelspec": {
   "display_name": "Python 3 (ipykernel)",
   "language": "python",
   "name": "python3"
  },
  "language_info": {
   "codemirror_mode": {
    "name": "ipython",
    "version": 3
   },
   "file_extension": ".py",
   "mimetype": "text/x-python",
   "name": "python",
   "nbconvert_exporter": "python",
   "pygments_lexer": "ipython3",
   "version": "3.12.7"
  }
 },
 "nbformat": 4,
 "nbformat_minor": 5
}
