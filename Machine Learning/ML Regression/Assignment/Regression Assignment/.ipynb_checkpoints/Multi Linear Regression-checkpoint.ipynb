{
 "cells": [
  {
   "cell_type": "code",
   "execution_count": 21,
   "id": "b1797cad-1245-4e13-af63-f3c6cf1bc27c",
   "metadata": {},
   "outputs": [
    {
     "data": {
      "text/plain": [
       "0.7894790349867009"
      ]
     },
     "execution_count": 21,
     "metadata": {},
     "output_type": "execute_result"
    }
   ],
   "source": [
    "import pandas as pd # import pandas module and all functions\n",
    "dataset = pd.read_csv(\"insurance_pre.csv\") #read csv file\n",
    "dataset.shape\n",
    "\n",
    "# Data Preprocessing\n",
    "dataset =pd.get_dummies(dataset,drop_first=True) \n",
    "\n",
    "# Spilt Input and Output\n",
    "independent_value = dataset[['age','bmi','children','sex_male','smoker_yes']] # split input value\n",
    "dependent_value = dataset[['charges']]  # split output value\n",
    "\n",
    "# Split Train and Test dataset\n",
    "from sklearn.model_selection import train_test_split # import train_test_split function from sklearn.model_selection module folders\n",
    "x_train,x_test,y_train,y_test = train_test_split(independent_value,dependent_value,test_size=0.30,random_state=0) # split the train data and test data frrm the function\n",
    "\n",
    "# Model Creation\n",
    "from sklearn.linear_model import LinearRegression #import LinearnRegression class from sklearn.linearn_model module folder\n",
    "regressor = LinearRegression() # create object for LinearRegression class\n",
    "regressor.fit(x_train, y_train) #Call fit function from regressor object and pass the arrguments,so based on the LinearRegression calss created the trained model\n",
    "\n",
    "# Test data set\n",
    "y_pred = regressor.predict(x_test) # Doing evalution matrix for input test data(x_test) through \"predict\" function, so based on prediction function check model\n",
    "\n",
    "# Evaluation Matrix\n",
    "from sklearn.metrics import r2_score # import r2_score form sklearn.metrics module folder\n",
    "r_score = r2_score(y_test,y_pred) # based on r2_score validate the model if it is returen near to \"1\" it is good model\n",
    "r_score"
   ]
  },
  {
   "cell_type": "code",
   "execution_count": null,
   "id": "e93e507c-8d83-432f-9589-7ecdb1bff415",
   "metadata": {},
   "outputs": [],
   "source": []
  }
 ],
 "metadata": {
  "kernelspec": {
   "display_name": "Python 3 (ipykernel)",
   "language": "python",
   "name": "python3"
  },
  "language_info": {
   "codemirror_mode": {
    "name": "ipython",
    "version": 3
   },
   "file_extension": ".py",
   "mimetype": "text/x-python",
   "name": "python",
   "nbconvert_exporter": "python",
   "pygments_lexer": "ipython3",
   "version": "3.12.7"
  }
 },
 "nbformat": 4,
 "nbformat_minor": 5
}
