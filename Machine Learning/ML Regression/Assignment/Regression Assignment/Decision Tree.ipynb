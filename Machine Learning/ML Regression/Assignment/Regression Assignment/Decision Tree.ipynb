{
 "cells": [
  {
   "cell_type": "code",
   "execution_count": 5,
   "id": "15f3c91b-792a-4e23-89c5-3ddb25358d17",
   "metadata": {},
   "outputs": [],
   "source": [
    "import pandas as pd # import pandas module and all functions\n",
    "dataset = pd.read_csv(\"insurance_pre.csv\") #read csv file\n",
    "dataset.shape\n",
    "\n",
    "# Data Preprocessing\n",
    "dataset =pd.get_dummies(dataset,drop_first=True) \n",
    "\n",
    "# Spilt Input and Output\n",
    "independent_value = dataset[['age','bmi','children','sex_male','smoker_yes']] # split input value\n",
    "dependent_value = dataset[['charges']]  # split output value\n",
    "\n",
    "# Split Train and Test dataset\n",
    "from sklearn.model_selection import train_test_split # import train_test_split function from sklearn.model_selection module folders\n",
    "x_train,x_test,y_train,y_test = train_test_split(independent_value,dependent_value,test_size=0.30,random_state=0) # split the train data and test data frrm the function\n",
    "\n",
    "from sklearn.tree import DecisionTreeRegressor\n",
    "regressor = DecisionTreeRegressor(criterion='poisson',splitter='random')\n",
    "regressor = regressor.fit(x_train,y_train)\n",
    "\n",
    "y_pred = regressor.predict(x_test) # Doing evalution matrix for input test data(x_test) through \"predict\" function, so based on prediction function check model\n",
    "from sklearn.metrics import r2_score # import r2_score form sklearn.metrics module folder\n",
    "r_score = r2_score(y_test,y_pred) # based on r2_score validate the model if it is returen near to \"1\" it is good model\n",
    "r_score"
   ]
  },
  {
   "cell_type": "code",
   "execution_count": 21,
   "id": "7228b990-830c-46f9-b7e0-ebd7495d6899",
   "metadata": {},
   "outputs": [
    {
     "data": {
      "text/plain": [
       "0.680477696616437"
      ]
     },
     "execution_count": 21,
     "metadata": {},
     "output_type": "execute_result"
    }
   ],
   "source": []
  },
  {
   "cell_type": "code",
   "execution_count": null,
   "id": "57cf40b0-e874-4d7f-b3d5-6cbd22385270",
   "metadata": {},
   "outputs": [],
   "source": []
  }
 ],
 "metadata": {
  "kernelspec": {
   "display_name": "Python 3 (ipykernel)",
   "language": "python",
   "name": "python3"
  },
  "language_info": {
   "codemirror_mode": {
    "name": "ipython",
    "version": 3
   },
   "file_extension": ".py",
   "mimetype": "text/x-python",
   "name": "python",
   "nbconvert_exporter": "python",
   "pygments_lexer": "ipython3",
   "version": "3.12.7"
  }
 },
 "nbformat": 4,
 "nbformat_minor": 5
}
