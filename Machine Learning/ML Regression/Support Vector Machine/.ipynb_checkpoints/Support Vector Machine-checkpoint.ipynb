{
 "cells": [
  {
   "cell_type": "code",
   "execution_count": 95,
   "id": "96584937-560f-4ba1-8265-6e0438eebb6d",
   "metadata": {},
   "outputs": [
    {
     "data": {
      "text/plain": [
       "Index(['R&D Spend', 'Administration', 'Marketing Spend', 'Profit',\n",
       "       'State_Florida', 'State_New York'],\n",
       "      dtype='object')"
      ]
     },
     "execution_count": 95,
     "metadata": {},
     "output_type": "execute_result"
    }
   ],
   "source": [
    "import pandas as pd # import pandas module and all functions\n",
    "dataset = pd.read_csv(\"50_Startups.csv\") #read csv file\n",
    "dataset = pd.get_dummies(dataset,drop_first=True) # get dummy values and drop the first column\n",
    "dataset.columns"
   ]
  },
  {
   "cell_type": "code",
   "execution_count": null,
   "id": "c67ccfa7-7fe7-4c63-bdd7-3d8306885852",
   "metadata": {},
   "outputs": [],
   "source": []
  },
  {
   "cell_type": "code",
   "execution_count": 97,
   "id": "ec217f6d-1cc9-4234-9b45-89074be7080b",
   "metadata": {},
   "outputs": [],
   "source": [
    "independent_value = dataset[['R&D Spend', 'Administration', 'Marketing Spend', 'State_Florida', 'State_New York']] # split input value\n",
    "dependent_value = dataset[['Profit']]  # split output value"
   ]
  },
  {
   "cell_type": "code",
   "execution_count": 99,
   "id": "7d12cb35-96d7-43cf-93ad-ca427e3ea45d",
   "metadata": {},
   "outputs": [],
   "source": [
    "from sklearn.model_selection import train_test_split # import train_test_split function from sklearn.model_selection module folders\n",
    "x_train,x_test,y_train,y_test = train_test_split(independent_value,dependent_value,test_size=0.30,random_state=0) # split the train data and test data frrm the function\n"
   ]
  },
  {
   "cell_type": "code",
   "execution_count": 103,
   "id": "6ffcb14c-bb3d-482d-8091-36d664e1dede",
   "metadata": {},
   "outputs": [],
   "source": [
    "from sklearn.preprocessing import StandardScaler\n",
    "sc= StandardScaler()\n",
    "x_train = sc.fit_transform(x_train)\n",
    "x_test = sc.transform(x_test)\n"
   ]
  },
  {
   "cell_type": "code",
   "execution_count": 145,
   "id": "b23672eb-b783-4e31-861a-0a3fda7f24a6",
   "metadata": {},
   "outputs": [
    {
     "name": "stderr",
     "output_type": "stream",
     "text": [
      "C:\\Users\\ranja\\anaconda3\\Lib\\site-packages\\sklearn\\utils\\validation.py:1339: DataConversionWarning: A column-vector y was passed when a 1d array was expected. Please change the shape of y to (n_samples, ), for example using ravel().\n",
      "  y = column_or_1d(y, warn=True)\n"
     ]
    },
    {
     "data": {
      "text/plain": [
       "0.18506861974160804"
      ]
     },
     "execution_count": 145,
     "metadata": {},
     "output_type": "execute_result"
    }
   ],
   "source": [
    "from sklearn.svm import SVR #import LinearnRegression class from sklearn.linearn_model module folder\n",
    "regressor = SVR(kernel=\"sigmoid\",C=1000) # create object for LinearRegression class\n",
    "regressor.fit(x_train, y_train) #Call fit function from regressor object and pass the arrguments,so based on the LinearRegression calss created the trained model\n",
    "\n",
    "regressor.n_support_ # check support data points count\n",
    "regressor.intercept_ # check support data points count\n",
    "y_pred = regressor.predict(x_test) # Doing evalution matrix for input test data(x_test) through \"predict\" function, so based on prediction function check model\n",
    "y_pred\n",
    "from sklearn.metrics import r2_score # import r2_score form sklearn.metrics module folder\n",
    "r_score = r2_score(y_test,y_pred) # based on r2_score validate the model if it is returen near to \"1\" it is good model\n",
    "r_score"
   ]
  },
  {
   "cell_type": "code",
   "execution_count": 107,
   "id": "01eee4a7-6414-4960-a190-4028334e9739",
   "metadata": {},
   "outputs": [
    {
     "data": {
      "text/plain": [
       "0.10646819600577384"
      ]
     },
     "execution_count": 107,
     "metadata": {},
     "output_type": "execute_result"
    }
   ],
   "source": [
    "\n"
   ]
  },
  {
   "cell_type": "code",
   "execution_count": 85,
   "id": "6fbe95e8-dfc5-4c96-b941-640c93678a1d",
   "metadata": {},
   "outputs": [
    {
     "data": {
      "text/plain": [
       "-0.057418393916219834"
      ]
     },
     "execution_count": 85,
     "metadata": {},
     "output_type": "execute_result"
    }
   ],
   "source": []
  },
  {
   "cell_type": "code",
   "execution_count": null,
   "id": "d0afa73b-d8d5-4311-b8b1-5fae5b7ece4a",
   "metadata": {},
   "outputs": [],
   "source": [
    "\n",
    "# import pickle # import pickle\n",
    "# file_name = \"finalized_model_mlr.sav\" #file name\n",
    "# pickle.dump(regressor,open(file_name,'wb')) # open the file and use 'wb' write/save the model\n",
    "# loaded_model = pickle.load(open(file_name,'rb')) # open the file and use 'rb' read the model then load the loaded variable\n",
    "# loaded_model.predict([[123456,246,876,0,1]]) # pass the custom input value"
   ]
  }
 ],
 "metadata": {
  "kernelspec": {
   "display_name": "Python 3 (ipykernel)",
   "language": "python",
   "name": "python3"
  },
  "language_info": {
   "codemirror_mode": {
    "name": "ipython",
    "version": 3
   },
   "file_extension": ".py",
   "mimetype": "text/x-python",
   "name": "python",
   "nbconvert_exporter": "python",
   "pygments_lexer": "ipython3",
   "version": "3.12.7"
  }
 },
 "nbformat": 4,
 "nbformat_minor": 5
}
