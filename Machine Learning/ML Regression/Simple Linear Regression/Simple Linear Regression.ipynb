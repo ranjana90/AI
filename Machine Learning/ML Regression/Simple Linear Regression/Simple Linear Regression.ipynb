{
 "cells": [
  {
   "cell_type": "code",
   "execution_count": 1,
   "id": "96584937-560f-4ba1-8265-6e0438eebb6d",
   "metadata": {},
   "outputs": [
    {
     "data": {
      "text/plain": [
       "0.9740993407213511"
      ]
     },
     "execution_count": 1,
     "metadata": {},
     "output_type": "execute_result"
    }
   ],
   "source": [
    "import pandas as pd # import pandas module and all functions\n",
    "dataset = pd.read_csv(\"Salary_Data.csv\") #read csv file\n",
    "independent_value = dataset[['YearsExperience']] # split input value\n",
    "dependent_value = dataset[['Salary']]  # split output value\n",
    "\n",
    "\n",
    "from sklearn.model_selection import train_test_split # import train_test_split function from sklearn.model_selection module folders\n",
    "x_train,x_test,y_train,y_test = train_test_split(independent_value,dependent_value,test_size=0.30,random_state=0) # split the train data and test data frrm the function\n",
    "\n",
    "\n",
    "from sklearn.linear_model import LinearRegression #import LinearnRegression class from sklearn.linearn_model module folder\n",
    "regressor = LinearRegression() # create object for LinearRegression class\n",
    "regressor.fit(x_train, y_train) #Call fit function from regressor object and pass the arrguments,so based on the LinearRegression calss created the trained model\n",
    "\n",
    "wegiht = regressor.coef_ # Check the wegiht/slop from coef_ function\n",
    "bais = regressor.intercept_ # check bais/initial value from intercept_ function\n",
    "y_pred = regressor.predict(x_test) # Doing evalution matrix for input test data(x_test) through \"predict\" function, so based on prediction function check model\n",
    "y_pred\n",
    "from sklearn.metrics import r2_score # import r2_score form sklearn.metrics module folder\n",
    "r_score = r2_score(y_test,y_pred) # based on r2_score validate the model if it is returen near to \"1\" it is good model\n",
    "r_score\n"
   ]
  },
  {
   "cell_type": "code",
   "execution_count": 43,
   "id": "ec217f6d-1cc9-4234-9b45-89074be7080b",
   "metadata": {},
   "outputs": [
    {
     "name": "stderr",
     "output_type": "stream",
     "text": [
      "C:\\Users\\ranja\\anaconda3\\Lib\\site-packages\\sklearn\\base.py:493: UserWarning: X does not have valid feature names, but LinearRegression was fitted with feature names\n",
      "  warnings.warn(\n"
     ]
    },
    {
     "data": {
      "text/plain": [
       "array([[139100.52677552]])"
      ]
     },
     "execution_count": 43,
     "metadata": {},
     "output_type": "execute_result"
    }
   ],
   "source": [
    "import pickle # import pickle\n",
    "file_name = \"finalized_model_slr.sav\" #file name\n",
    "pickle.dump(regressor,open(file_name,'wb')) # open the file and use 'wb' write/save the model\n",
    "loaded_model = pickle.load(open(file_name,'rb')) # open the file and use 'rb' read the model then load the loaded variable\n",
    "loaded_model.predict([[12]]) # pass the custom input value"
   ]
  },
  {
   "cell_type": "code",
   "execution_count": null,
   "id": "7d12cb35-96d7-43cf-93ad-ca427e3ea45d",
   "metadata": {},
   "outputs": [],
   "source": []
  }
 ],
 "metadata": {
  "kernelspec": {
   "display_name": "Python 3 (ipykernel)",
   "language": "python",
   "name": "python3"
  },
  "language_info": {
   "codemirror_mode": {
    "name": "ipython",
    "version": 3
   },
   "file_extension": ".py",
   "mimetype": "text/x-python",
   "name": "python",
   "nbconvert_exporter": "python",
   "pygments_lexer": "ipython3",
   "version": "3.12.7"
  }
 },
 "nbformat": 4,
 "nbformat_minor": 5
}
