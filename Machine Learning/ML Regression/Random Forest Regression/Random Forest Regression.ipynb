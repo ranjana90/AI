{
 "cells": [
  {
   "cell_type": "code",
   "execution_count": 1,
   "id": "081984e8-f78f-4ae6-88ea-dcc9d8145d5a",
   "metadata": {},
   "outputs": [],
   "source": [
    "import pandas as pd # import pandas module and all functions\n",
    "dataset = pd.read_csv(\"50_Startups.csv\") #read csv file\n",
    "dataset = pd.get_dummies(dataset,drop_first=True) # get dummy values and drop the first column\n",
    "independent_value = dataset[['R&D Spend', 'Administration', 'Marketing Spend', 'State_Florida', 'State_New York']] # split input value\n",
    "dependent_value = dataset[['Profit']]  # split output value\n",
    "from sklearn.model_selection import train_test_split # import train_test_split function from sklearn.model_selection module folders\n",
    "x_train,x_test,y_train,y_test = train_test_split(independent_value,dependent_value,test_size=0.30,random_state=0) # split the train data and test data frrm the function\n"
   ]
  },
  {
   "cell_type": "code",
   "execution_count": 61,
   "id": "bb7f2cbd-931b-4ac1-9b85-6e04259de04b",
   "metadata": {},
   "outputs": [
    {
     "name": "stderr",
     "output_type": "stream",
     "text": [
      "C:\\Users\\ranja\\anaconda3\\Lib\\site-packages\\sklearn\\base.py:1473: DataConversionWarning: A column-vector y was passed when a 1d array was expected. Please change the shape of y to (n_samples,), for example using ravel().\n",
      "  return fit_method(estimator, *args, **kwargs)\n"
     ]
    },
    {
     "data": {
      "text/plain": [
       "0.944481586280158"
      ]
     },
     "execution_count": 61,
     "metadata": {},
     "output_type": "execute_result"
    }
   ],
   "source": [
    "from sklearn.ensemble import RandomForestRegressor\n",
    "regressor = RandomForestRegressor(n_estimators=100,criterion='poisson')\n",
    "regressor = regressor.fit(x_train,y_train)\n",
    "\n",
    "# import matplotlib.pyplot as plt\n",
    "# from sklearn import tree\n",
    "# tree.plot_tree(regressor)\n",
    "# plt.show()\n",
    "\n",
    "y_pred = regressor.predict(x_test) # Doing evalution matrix for input test data(x_test) through \"predict\" function, so based on prediction function check model\n",
    "\n",
    "from sklearn.metrics import r2_score # import r2_score form sklearn.metrics module folder\n",
    "r_score = r2_score(y_test,y_pred) # based on r2_score validate the model if it is returen near to \"1\" it is good model\n",
    "r_score"
   ]
  },
  {
   "cell_type": "code",
   "execution_count": null,
   "id": "bbe2ad9d-17bb-4632-9d52-450007f3cfc3",
   "metadata": {},
   "outputs": [],
   "source": []
  }
 ],
 "metadata": {
  "kernelspec": {
   "display_name": "Python 3 (ipykernel)",
   "language": "python",
   "name": "python3"
  },
  "language_info": {
   "codemirror_mode": {
    "name": "ipython",
    "version": 3
   },
   "file_extension": ".py",
   "mimetype": "text/x-python",
   "name": "python",
   "nbconvert_exporter": "python",
   "pygments_lexer": "ipython3",
   "version": "3.12.7"
  }
 },
 "nbformat": 4,
 "nbformat_minor": 5
}
