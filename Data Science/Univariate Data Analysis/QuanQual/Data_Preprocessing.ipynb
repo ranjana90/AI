{
 "cells": [
  {
   "cell_type": "code",
   "execution_count": 19,
   "id": "701688f9-0b09-47e5-9e8f-779fae4ec027",
   "metadata": {},
   "outputs": [
    {
     "name": "stdout",
     "output_type": "stream",
     "text": [
      "[[1.00000000e+00 6.70000000e+01 9.10000000e+01 ... 5.50000000e+01\n",
      "  5.88000000e+01 2.70000000e+05]\n",
      " [2.00000000e+00 7.93300000e+01 7.83300000e+01 ... 8.65000000e+01\n",
      "  6.62800000e+01 2.00000000e+05]\n",
      " [3.00000000e+00 6.50000000e+01 6.80000000e+01 ... 7.50000000e+01\n",
      "  5.78000000e+01 2.50000000e+05]\n",
      " ...\n",
      " [2.13000000e+02 6.70000000e+01 6.70000000e+01 ... 5.90000000e+01\n",
      "  6.97200000e+01 2.95000000e+05]\n",
      " [2.14000000e+02 7.40000000e+01 6.60000000e+01 ... 7.00000000e+01\n",
      "  6.02300000e+01 2.04000000e+05]\n",
      " [2.15000000e+02 6.20000000e+01 5.80000000e+01 ... 8.90000000e+01\n",
      "  6.02200000e+01 2.88655405e+05]]\n"
     ]
    }
   ],
   "source": [
    "import pandas as pd\n",
    "from sklearn.impute import SimpleImputer\n",
    "import numpy as np\n",
    "\n",
    "import warnings\n",
    "warnings.filterwarnings(\"ignore\")\n",
    "from Univariate import Univariate\n",
    "\n",
    "dataset = pd.read_csv(\"Placement.csv\")\n",
    "quan,qual = Univariate.quanQual(dataset)\n",
    "# dataset.isnull().sum()\n",
    "# dataset['salary'].fillna(0, inplace=True)\n",
    "# dataset.isnull().sum()\n",
    "\n",
    "# Create an imputer to replace NaN values with the mean of each column\n",
    "imputer = SimpleImputer(missing_values=np.nan, strategy='mean')\n",
    "\n",
    "# Fit the imputer and transform the data\n",
    "imputer.fit(dataset[quan])\n",
    "X_imputed = imputer.transform(dataset[quan])\n",
    "\n",
    "print(X_imputed)"
   ]
  },
  {
   "cell_type": "code",
   "execution_count": null,
   "id": "639349b5-7f85-45b1-9fdb-d1448373a167",
   "metadata": {},
   "outputs": [],
   "source": []
  }
 ],
 "metadata": {
  "kernelspec": {
   "display_name": "Python 3 (ipykernel)",
   "language": "python",
   "name": "python3"
  },
  "language_info": {
   "codemirror_mode": {
    "name": "ipython",
    "version": 3
   },
   "file_extension": ".py",
   "mimetype": "text/x-python",
   "name": "python",
   "nbconvert_exporter": "python",
   "pygments_lexer": "ipython3",
   "version": "3.12.7"
  }
 },
 "nbformat": 4,
 "nbformat_minor": 5
}
