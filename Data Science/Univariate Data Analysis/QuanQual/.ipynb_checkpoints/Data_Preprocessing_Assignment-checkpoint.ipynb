{
 "cells": [
  {
   "cell_type": "code",
   "execution_count": 7,
   "id": "974b12af-9689-4345-9aa2-1a665eec504f",
   "metadata": {},
   "outputs": [
    {
     "name": "stdout",
     "output_type": "stream",
     "text": [
      "Quantitive columns: ['id', 'age', 'bp', 'sg', 'al', 'su', 'bgr', 'bu', 'sc', 'sod', 'pot', 'hemo']\n",
      "Qualitative columns: ['rbc', 'pc', 'pcc', 'ba', 'pcv', 'wc', 'rc', 'htn', 'dm', 'cad', 'appet', 'pe', 'ane', 'classification']\n",
      "Preprocessed Data :\n"
     ]
    },
    {
     "data": {
      "text/plain": [
       "id                  0\n",
       "age                 0\n",
       "bp                  0\n",
       "sg                  0\n",
       "al                  0\n",
       "su                  0\n",
       "bgr                 0\n",
       "bu                  0\n",
       "sc                  0\n",
       "sod                 0\n",
       "pot                 0\n",
       "hemo                0\n",
       "rbc               152\n",
       "pc                 65\n",
       "pcc                 4\n",
       "ba                  4\n",
       "pcv                70\n",
       "wc                105\n",
       "rc                130\n",
       "htn                 2\n",
       "dm                  2\n",
       "cad                 2\n",
       "appet               1\n",
       "pe                  1\n",
       "ane                 1\n",
       "classification      0\n",
       "dtype: int64"
      ]
     },
     "execution_count": 7,
     "metadata": {},
     "output_type": "execute_result"
    }
   ],
   "source": [
    "import pandas as pd\n",
    "from sklearn.impute import SimpleImputer\n",
    "import numpy as np\n",
    "\n",
    "import warnings\n",
    "warnings.filterwarnings(\"ignore\")\n",
    "from Univariate import Univariate\n",
    "\n",
    "dataset = pd.read_csv(\"kidney_disease.csv\")\n",
    "# dataset.dtypes\n",
    "# quantitative - Numeric columns\n",
    "# Qualitative - String columns\n",
    "quan,qual = Univariate.quanQual(dataset)\n",
    "print(f\"Quantitive columns: {quan}\")\n",
    "print(f\"Qualitative columns: {qual}\")\n",
    "dataset\n",
    "dataset.isnull().sum()\n",
    "# # dataset['salary'].fillna(0, inplace=True)\n",
    "# # dataset.isnull().sum()\n",
    "\n",
    "# Create an imputer to replace NaN values with the mean of each column\n",
    "imputer = SimpleImputer(missing_values=np.nan, strategy='mean')\n",
    "\n",
    "# Fit the imputer and transform the data\n",
    "imputer.fit(dataset[quan])\n",
    "ds = imputer.transform(dataset[quan])\n",
    "df = pd.DataFrame(ds, columns= quan)\n",
    "df.isnull().sum()\n",
    "print(\"Preprocessed Data :\")\n",
    "categorical_df = dataset[qual]\n",
    "pre_processed_df = pd.concat([df, categorical_df], axis=1)\n",
    "pre_processed_df.isnull().sum()\n",
    "# pre_processed_df.to_csv(\"kidney_disease_pre_processed_data.csv\",index=False)\n",
    "\n"
   ]
  },
  {
   "cell_type": "code",
   "execution_count": null,
   "id": "c3f737c4-79f5-4b70-bf10-5bef84395782",
   "metadata": {},
   "outputs": [],
   "source": []
  }
 ],
 "metadata": {
  "kernelspec": {
   "display_name": "Python 3 (ipykernel)",
   "language": "python",
   "name": "python3"
  },
  "language_info": {
   "codemirror_mode": {
    "name": "ipython",
    "version": 3
   },
   "file_extension": ".py",
   "mimetype": "text/x-python",
   "name": "python",
   "nbconvert_exporter": "python",
   "pygments_lexer": "ipython3",
   "version": "3.12.7"
  }
 },
 "nbformat": 4,
 "nbformat_minor": 5
}
