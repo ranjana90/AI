{
 "cells": [
  {
   "cell_type": "code",
   "execution_count": 1,
   "id": "c8e136a7-d1ba-4d00-a03b-3401d8c2d42f",
   "metadata": {},
   "outputs": [
    {
     "name": "stdout",
     "output_type": "stream",
     "text": [
      "HOPE AI\n"
     ]
    }
   ],
   "source": [
    "print(\"HOPE AI\")"
   ]
  },
  {
   "cell_type": "code",
   "execution_count": 1,
   "id": "b1ad187f-f974-40da-a9ca-bfaed9ee4a6a",
   "metadata": {},
   "outputs": [
    {
     "name": "stdin",
     "output_type": "stream",
     "text": [
      " Hope AI\n"
     ]
    },
    {
     "name": "stdout",
     "output_type": "stream",
     "text": [
      "Enter your institute name? :  Hope AI\n"
     ]
    }
   ],
   "source": [
    "a =  input()\n",
    "print(\"Enter your institute name? : \", a)"
   ]
  },
  {
   "cell_type": "code",
   "execution_count": 7,
   "id": "0ae8e02f-9ff2-4c60-9c9e-39b81047ddbc",
   "metadata": {},
   "outputs": [
    {
     "name": "stdin",
     "output_type": "stream",
     "text": [
      " Ranjana\n"
     ]
    },
    {
     "name": "stdout",
     "output_type": "stream",
     "text": [
      "Enter your name:  Ranjana\n"
     ]
    },
    {
     "name": "stdin",
     "output_type": "stream",
     "text": [
      " 34\n"
     ]
    },
    {
     "name": "stdout",
     "output_type": "stream",
     "text": [
      "Enter your age:  34\n"
     ]
    },
    {
     "name": "stdin",
     "output_type": "stream",
     "text": [
      " School\n"
     ]
    },
    {
     "name": "stdout",
     "output_type": "stream",
     "text": [
      "Enter your school name:  School\n"
     ]
    },
    {
     "name": "stdin",
     "output_type": "stream",
     "text": [
      " MCA\n"
     ]
    },
    {
     "name": "stdout",
     "output_type": "stream",
     "text": [
      "Enter your drgree:  MCA\n"
     ]
    }
   ],
   "source": [
    "print(\"Enter your name: \", input()) \n",
    "print(\"Enter your age: \", input())\n",
    "print(\"Enter your school name: \",input())\n",
    "print(\"Enter your drgree: \", input())\n"
   ]
  },
  {
   "cell_type": "code",
   "execution_count": 9,
   "id": "f2fac35c-b8d3-463d-93d9-50e5920c18b6",
   "metadata": {},
   "outputs": [
    {
     "name": "stdout",
     "output_type": "stream",
     "text": [
      "a =  43\n",
      "b =  34\n",
      "Add =  77\n"
     ]
    }
   ],
   "source": [
    "a= 43\n",
    "b= 34\n",
    "c = a + b\n",
    "print(\"a = \", a)\n",
    "print(\"b = \", b)\n",
    "print(\"Add = \", c)"
   ]
  },
  {
   "cell_type": "code",
   "execution_count": 11,
   "id": "3def562e-2721-44d5-8e90-d950774ff754",
   "metadata": {},
   "outputs": [
    {
     "name": "stdout",
     "output_type": "stream",
     "text": [
      "a =  43\n",
      "b =  34\n",
      "Add =  9\n"
     ]
    }
   ],
   "source": [
    "a= 43\n",
    "b= 34\n",
    "c = a - b\n",
    "print(\"a = \", a)\n",
    "print(\"b = \", b)\n",
    "print(\"Add = \", c)"
   ]
  },
  {
   "cell_type": "code",
   "execution_count": 13,
   "id": "78a88ef6-b673-4f66-a091-fc39b96c7c48",
   "metadata": {},
   "outputs": [
    {
     "name": "stdout",
     "output_type": "stream",
     "text": [
      "a =  43\n",
      "b =  34\n",
      "Multiplication =  1462\n"
     ]
    }
   ],
   "source": [
    "a= 43\n",
    "b= 34\n",
    "c = a * b\n",
    "print(\"a = \", a)\n",
    "print(\"b = \", b)\n",
    "print(\"Multiplication = \", c)"
   ]
  },
  {
   "cell_type": "code",
   "execution_count": 17,
   "id": "74da57fb-74ad-444f-8740-e4d4f0170206",
   "metadata": {},
   "outputs": [
    {
     "name": "stdout",
     "output_type": "stream",
     "text": [
      "a =  76\n",
      "b =  31\n",
      "Float Div =  2.4516129032258065\n"
     ]
    }
   ],
   "source": [
    "a= 76\n",
    "b= 31\n",
    "c = a / b\n",
    "print(\"a = \", a)\n",
    "print(\"b = \", b)\n",
    "print(\"Float Div = \", c)\n"
   ]
  },
  {
   "cell_type": "code",
   "execution_count": 19,
   "id": "f2297991-57e3-40c4-8c98-0aebe5bbb31f",
   "metadata": {},
   "outputs": [
    {
     "name": "stdout",
     "output_type": "stream",
     "text": [
      "a =  76\n",
      "b =  31\n",
      "Floor Div =  2\n"
     ]
    }
   ],
   "source": [
    "a= 76\n",
    "b= 31\n",
    "c = a // b\n",
    "print(\"a = \", a)\n",
    "print(\"b = \", b)\n",
    "print(\"Floor Div = \", c)\n"
   ]
  },
  {
   "cell_type": "code",
   "execution_count": 27,
   "id": "b2dfbe10-6d81-491f-ba3f-8e7f91747ffb",
   "metadata": {},
   "outputs": [
    {
     "name": "stdout",
     "output_type": "stream",
     "text": [
      "a =  4\n",
      "b =  4\n",
      "256\n"
     ]
    }
   ],
   "source": [
    "a= 4\n",
    "b= 4\n",
    "powers = 4\n",
    "print(\"a = \", a)\n",
    "print(\"b = \", b)\n",
    "\n",
    "for pow in range(3):\n",
    "    powers *= 4 \n",
    "print(powers)\n",
    "\n"
   ]
  },
  {
   "cell_type": "code",
   "execution_count": null,
   "id": "6dbfb18b-c8bc-4c48-8129-7712530593ff",
   "metadata": {},
   "outputs": [],
   "source": []
  }
 ],
 "metadata": {
  "kernelspec": {
   "display_name": "Python 3 (ipykernel)",
   "language": "python",
   "name": "python3"
  },
  "language_info": {
   "codemirror_mode": {
    "name": "ipython",
    "version": 3
   },
   "file_extension": ".py",
   "mimetype": "text/x-python",
   "name": "python",
   "nbconvert_exporter": "python",
   "pygments_lexer": "ipython3",
   "version": "3.12.7"
  }
 },
 "nbformat": 4,
 "nbformat_minor": 5
}
