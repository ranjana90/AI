{
 "cells": [
  {
   "cell_type": "code",
   "execution_count": 1,
   "id": "5723f64d-290d-4a4d-a043-96059773ab73",
   "metadata": {},
   "outputs": [
    {
     "name": "stdout",
     "output_type": "stream",
     "text": [
      "Machine Learning\n",
      "Neural Networks\n",
      "Vision\n",
      "Robotics\n",
      "Speech Processing\n",
      "Natural Language Processing\n",
      "None\n"
     ]
    }
   ],
   "source": [
    "\n",
    "\n",
    "class SubfieldsInAI():\n",
    "    \n",
    "    def Subfields(val):\n",
    "        for i in val:\n",
    "            print(i)\n",
    "\n",
    "val = [\"Machine Learning\",\"Neural Networks\",\"Vision\",\"Robotics\",\"Speech Processing\",\"Natural Language Processing\"]\n",
    "obj = SubfieldsInAI.Subfields(val)\n",
    "print(obj)\n"
   ]
  },
  {
   "cell_type": "code",
   "execution_count": 23,
   "id": "19ad59ba-c008-450b-b3f5-699e9aa8c641",
   "metadata": {},
   "outputs": [
    {
     "name": "stdout",
     "output_type": "stream",
     "text": [
      "Eligible for marriage\n"
     ]
    }
   ],
   "source": [
    "class EligibilityForMarriage: \n",
    "    def __init__(self, gender, age): \n",
    "        self.gender = gender \n",
    "        self.age = age \n",
    "    def is_eligible(self): \n",
    "        if self.gender.lower() == 'male' and self.age >= 21: \n",
    "            return \"Eligible for marriage\" \n",
    "        elif self.gender.lower() == 'female' and self.age >= 18: \n",
    "            return \"Eligible for marriage\" \n",
    "        else: \n",
    "            return \"Not eligible for marriage\"\n",
    "person1 = EligibilityForMarriage('male', 22) \n",
    "print(person1.is_eligible())"
   ]
  },
  {
   "cell_type": "code",
   "execution_count": 53,
   "id": "326fcead-f2d3-4f64-9519-226e8c026f03",
   "metadata": {},
   "outputs": [
    {
     "name": "stdout",
     "output_type": "stream",
     "text": [
      "Area of Triangle:  544.0\n",
      "Perimeter of Triangle:  20.0\n"
     ]
    }
   ],
   "source": [
    "\n",
    "\n",
    "class Triangle:\n",
    "    def __init__(self,height, height1, height2, breadth):\n",
    "        self.height = height\n",
    "        self.height1 = height1\n",
    "        self.height2 = height2\n",
    "        self.breadth = breadth\n",
    "    def Area(self):\n",
    "        formula = (self.height * self.breadth) / 2\n",
    "        # value = 'Area of Triangle: '+ formula\n",
    "        return formula\n",
    "    def Perimeter(self):\n",
    "        formula = (self.height1 + self.height2 + self.breadth) / 2\n",
    "        # value = 'Perimeter of Triangle: '+ formula\n",
    "        return formula\n",
    "\n",
    "\n",
    "obj = Triangle(32,2,4,34)\n",
    "print('Area of Triangle: ',obj.Area())\n",
    "print('Perimeter of Triangle: ',obj.Perimeter())\n",
    "    \n",
    "        "
   ]
  },
  {
   "cell_type": "code",
   "execution_count": null,
   "id": "c825f089-3452-41b1-9a93-32c23c9f9bf7",
   "metadata": {},
   "outputs": [],
   "source": []
  }
 ],
 "metadata": {
  "kernelspec": {
   "display_name": "Python 3 (ipykernel)",
   "language": "python",
   "name": "python3"
  },
  "language_info": {
   "codemirror_mode": {
    "name": "ipython",
    "version": 3
   },
   "file_extension": ".py",
   "mimetype": "text/x-python",
   "name": "python",
   "nbconvert_exporter": "python",
   "pygments_lexer": "ipython3",
   "version": "3.12.7"
  }
 },
 "nbformat": 4,
 "nbformat_minor": 5
}
