{
 "cells": [
  {
   "cell_type": "code",
   "execution_count": 1,
   "id": "ee2833ad-c538-4729-9b88-695d1e30c3ed",
   "metadata": {},
   "outputs": [
    {
     "name": "stdout",
     "output_type": "stream",
     "text": [
      "Welcome to Assignment-1\n"
     ]
    }
   ],
   "source": [
    "print(\"Welcome to Assignment-1\")"
   ]
  },
  {
   "cell_type": "code",
   "execution_count": 7,
   "id": "ab33607d-6046-4985-9663-996abb8ec94a",
   "metadata": {},
   "outputs": [
    {
     "name": "stdout",
     "output_type": "stream",
     "text": [
      "Num1 = 10\n",
      "Num2 = 30\n",
      "Add = 40\n"
     ]
    }
   ],
   "source": [
    "num_1= 10\n",
    "num_2= 30\n",
    "add = num_1 + num_2\n",
    "print(\"Num1 =\", num_1)\n",
    "print(\"Num2 =\", num_2)\n",
    "print(\"Add =\", add)"
   ]
  },
  {
   "cell_type": "code",
   "execution_count": 45,
   "id": "5368e602-5deb-41e1-a7bb-6c188382300a",
   "metadata": {},
   "outputs": [
    {
     "name": "stdin",
     "output_type": "stream",
     "text": [
      "Enter the BMI Index :  25.8\n"
     ]
    },
    {
     "name": "stdout",
     "output_type": "stream",
     "text": [
      "25.8\n",
      "OverWeight\n"
     ]
    }
   ],
   "source": [
    "input_value = float(input(\"Enter the BMI Index : \"))\n",
    "print(input_value)\n",
    "if(input_value < 16):\n",
    "    print(\"Severe Thinness\")\n",
    "elif(input_value == 16 or input_value == 17):\n",
    "    print(\"Moderate Tinness\")\n",
    "elif(input_value > 16 and input_value <= 18.5):\n",
    "    print(\"Mild Tinness\")\n",
    "elif(input_value <= 18.5 or input_value <= 25):\n",
    "    print(\"Normal\")\n",
    "elif(input_value <= 25 or input_value <= 30):\n",
    "    print(\"OverWeight\")\n",
    "elif(input_value <= 30 or input_value <= 35):\n",
    "    print(\"Obese Class I\")\n",
    "elif(input_value <= 35 or input_value <= 40):\n",
    "    print(\"Obese Class II\")\n",
    "else:\n",
    "    print(\"Obese Class III\")"
   ]
  },
  {
   "cell_type": "code",
   "execution_count": null,
   "id": "d18c7b29-2a06-4155-81db-c5e92b1c589b",
   "metadata": {},
   "outputs": [],
   "source": []
  },
  {
   "cell_type": "code",
   "execution_count": null,
   "id": "9c363465-e7e1-443f-a7ae-9fd0304bb533",
   "metadata": {},
   "outputs": [],
   "source": []
  }
 ],
 "metadata": {
  "kernelspec": {
   "display_name": "Python 3 (ipykernel)",
   "language": "python",
   "name": "python3"
  },
  "language_info": {
   "codemirror_mode": {
    "name": "ipython",
    "version": 3
   },
   "file_extension": ".py",
   "mimetype": "text/x-python",
   "name": "python",
   "nbconvert_exporter": "python",
   "pygments_lexer": "ipython3",
   "version": "3.12.7"
  }
 },
 "nbformat": 4,
 "nbformat_minor": 5
}
