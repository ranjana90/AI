{
 "cells": [
  {
   "cell_type": "code",
   "execution_count": 5,
   "id": "ae341772-3a6e-4757-ad33-9de91636afc3",
   "metadata": {},
   "outputs": [
    {
     "name": "stdin",
     "output_type": "stream",
     "text": [
      " 10\n"
     ]
    },
    {
     "name": "stdout",
     "output_type": "stream",
     "text": [
      "Value : 10\n",
      "CORRECT\n"
     ]
    }
   ],
   "source": [
    "# print 'CORRECT' if i == 10\n",
    "i = input()\n",
    "print(\"Value :\", i)\n",
    "if int(i) == 10:\n",
    "    print(\"CORRECT\")\n"
   ]
  },
  {
   "cell_type": "code",
   "execution_count": 30,
   "id": "a88f0249-3ba4-4dc3-8a3e-82bd20ce0cf6",
   "metadata": {},
   "outputs": [
    {
     "name": "stdin",
     "output_type": "stream",
     "text": [
      " 40\n"
     ]
    },
    {
     "name": "stdout",
     "output_type": "stream",
     "text": [
      "age : 40\n",
      "adult\n"
     ]
    }
   ],
   "source": [
    "num = int(input())\n",
    "print(\"age :\", num)\n",
    "if num > 0 and num <= 17: \n",
    "    print(\"Children\")\n",
    "elif num > 18 and num <= 40: \n",
    "    print(\"adult\") \n",
    "elif num > 41 and num < 60: \n",
    "    print(\"citizen\")\n",
    "else:\n",
    "    print(\"senior citizen\")"
   ]
  },
  {
   "cell_type": "code",
   "execution_count": 12,
   "id": "ddd72eea-0317-4726-bbbf-d58e137036fe",
   "metadata": {},
   "outputs": [
    {
     "name": "stdin",
     "output_type": "stream",
     "text": [
      " -10\n"
     ]
    },
    {
     "name": "stdout",
     "output_type": "stream",
     "text": [
      "Enter any number : -10\n",
      "Negative\n"
     ]
    }
   ],
   "source": [
    "num = int(input())\n",
    "print(\"Enter any number :\", num)\n",
    "if num > 0: \n",
    "    print(\"Positive\")\n",
    "elif num < 0: \n",
    "    print(\"Negative\") \n",
    "else: \n",
    "    print(\"Zero\")"
   ]
  },
  {
   "cell_type": "code",
   "execution_count": 18,
   "id": "a5e2d32e-b693-465d-8410-cc04fa957b77",
   "metadata": {},
   "outputs": [
    {
     "name": "stdin",
     "output_type": "stream",
     "text": [
      " 21\n"
     ]
    },
    {
     "name": "stdout",
     "output_type": "stream",
     "text": [
      "Enter a number to check: 21\n",
      "21 is not divisible by 21\n"
     ]
    }
   ],
   "source": [
    "num = int(input())\n",
    "print(\"Enter a number to check:\", num)\n",
    "if num % 5 == 0: \n",
    "    print(\"{0} is divisible by {0}\".format(num,5))\n",
    "\n",
    "else: \n",
    "    print(\"{0} is not divisible by {0}\".format(num,5))"
   ]
  },
  {
   "cell_type": "code",
   "execution_count": null,
   "id": "b49cd0e1-e0b1-4381-b293-df1e3281220c",
   "metadata": {},
   "outputs": [],
   "source": []
  }
 ],
 "metadata": {
  "kernelspec": {
   "display_name": "Python 3 (ipykernel)",
   "language": "python",
   "name": "python3"
  },
  "language_info": {
   "codemirror_mode": {
    "name": "ipython",
    "version": 3
   },
   "file_extension": ".py",
   "mimetype": "text/x-python",
   "name": "python",
   "nbconvert_exporter": "python",
   "pygments_lexer": "ipython3",
   "version": "3.12.7"
  }
 },
 "nbformat": 4,
 "nbformat_minor": 5
}
